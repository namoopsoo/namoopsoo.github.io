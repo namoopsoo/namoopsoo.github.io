{
 "cells": [
  {
   "cell_type": "raw",
   "metadata": {},
   "source": [
    "The simple goal here is to take the example in https://en.wikipedia.org/wiki/Chi-squared_test#Example_chi-squared_test_for_categorical_data and finish calculating the test statistic. It looks like at the time of this writing that was left as an exercise for the reader."
   ]
  },
  {
   "cell_type": "code",
   "execution_count": 27,
   "metadata": {},
   "outputs": [],
   "source": [
    "from __future__ import division"
   ]
  },
  {
   "cell_type": "code",
   "execution_count": 1,
   "metadata": {},
   "outputs": [],
   "source": [
    "import numpy as np"
   ]
  },
  {
   "cell_type": "code",
   "execution_count": 2,
   "metadata": {},
   "outputs": [],
   "source": [
    "# lets say oee(o,e) is the calculation done in each of the 3x4 cells\n",
    "oee = lambda o,e: ((o - e)**2)/e"
   ]
  },
  {
   "cell_type": "code",
   "execution_count": 5,
   "metadata": {},
   "outputs": [],
   "source": [
    "data = np.array([[90,60,104,95],[30,50,51,20],[30,40,45,35]])"
   ]
  },
  {
   "cell_type": "code",
   "execution_count": 11,
   "metadata": {},
   "outputs": [],
   "source": [
    "# Total number of people sampled.\n",
    "total = data.sum()"
   ]
  },
  {
   "cell_type": "code",
   "execution_count": 54,
   "metadata": {},
   "outputs": [
    {
     "data": {
      "text/plain": [
       "650"
      ]
     },
     "execution_count": 54,
     "metadata": {},
     "output_type": "execute_result"
    }
   ],
   "source": [
    "total"
   ]
  },
  {
   "cell_type": "code",
   "execution_count": 12,
   "metadata": {},
   "outputs": [],
   "source": [
    "num_classes, num_neighborhoods = data.shape[0], data.shape[1]"
   ]
  },
  {
   "cell_type": "code",
   "execution_count": 13,
   "metadata": {},
   "outputs": [
    {
     "data": {
      "text/plain": [
       "(3, 4)"
      ]
     },
     "execution_count": 13,
     "metadata": {},
     "output_type": "execute_result"
    }
   ],
   "source": [
    "num_classes, num_neighborhoods"
   ]
  },
  {
   "cell_type": "code",
   "execution_count": 60,
   "metadata": {},
   "outputs": [],
   "source": [
    "# totals for each neighborhood\n",
    "neighborhood_totals = [\n",
    "    sum([data[i][j] for i in range(num_classes)]) for j in range(num_neighborhoods)]"
   ]
  },
  {
   "cell_type": "code",
   "execution_count": 61,
   "metadata": {},
   "outputs": [
    {
     "data": {
      "text/plain": [
       "[150, 150, 200, 150]"
      ]
     },
     "execution_count": 61,
     "metadata": {},
     "output_type": "execute_result"
    }
   ],
   "source": [
    "neighborhood_totals"
   ]
  },
  {
   "cell_type": "code",
   "execution_count": null,
   "metadata": {},
   "outputs": [],
   "source": [
    "# get expected value of a class on a given neighborhood"
   ]
  },
  {
   "cell_type": "code",
   "execution_count": 23,
   "metadata": {},
   "outputs": [],
   "source": [
    "# lets find the expected values for each of the three classes white collar, blue collar and no collar\n",
    "class_totals = [data[i].sum() for i in range(num_classes)]"
   ]
  },
  {
   "cell_type": "code",
   "execution_count": 24,
   "metadata": {},
   "outputs": [
    {
     "data": {
      "text/plain": [
       "[349, 151, 150]"
      ]
     },
     "execution_count": 24,
     "metadata": {},
     "output_type": "execute_result"
    }
   ],
   "source": [
    "class_totals"
   ]
  },
  {
   "cell_type": "code",
   "execution_count": 40,
   "metadata": {},
   "outputs": [],
   "source": [
    "class_probability_priors = [class_totals[i]/total for i in range(num_classes)]"
   ]
  },
  {
   "cell_type": "code",
   "execution_count": 41,
   "metadata": {},
   "outputs": [
    {
     "data": {
      "text/plain": [
       "[0.53692307692307695, 0.2323076923076923, 0.23076923076923078]"
      ]
     },
     "execution_count": 41,
     "metadata": {},
     "output_type": "execute_result"
    }
   ],
   "source": [
    "class_probability_priors"
   ]
  },
  {
   "cell_type": "code",
   "execution_count": 28,
   "metadata": {},
   "outputs": [],
   "source": [
    "expected_values = [\n",
    "    [((neighborhood_totals[j])*(class_totals[i]/total))\n",
    "     for j in range(num_neighborhoods)]\n",
    "    for i in range(num_classes)]"
   ]
  },
  {
   "cell_type": "code",
   "execution_count": 29,
   "metadata": {},
   "outputs": [
    {
     "data": {
      "text/plain": [
       "[[80.538461538461547,\n",
       "  80.538461538461547,\n",
       "  107.38461538461539,\n",
       "  80.538461538461547],\n",
       " [34.846153846153847,\n",
       "  34.846153846153847,\n",
       "  46.46153846153846,\n",
       "  34.846153846153847],\n",
       " [34.61538461538462, 34.61538461538462, 46.153846153846153, 34.61538461538462]]"
      ]
     },
     "execution_count": 29,
     "metadata": {},
     "output_type": "execute_result"
    }
   ],
   "source": [
    "expected_values"
   ]
  },
  {
   "cell_type": "code",
   "execution_count": 44,
   "metadata": {},
   "outputs": [
    {
     "name": "stdout",
     "output_type": "stream",
     "text": [
      "150.01\n",
      "150\n"
     ]
    }
   ],
   "source": [
    "# sum of cells on first neighborhood expected values should match the actual sum ...\n",
    "print 80.54 + 34.85 + 34.62\n",
    "print neighborhood_totals[0]"
   ]
  },
  {
   "cell_type": "code",
   "execution_count": 45,
   "metadata": {},
   "outputs": [],
   "source": [
    "# ok cool ^^ that looks about right."
   ]
  },
  {
   "cell_type": "code",
   "execution_count": 36,
   "metadata": {},
   "outputs": [],
   "source": [
    "# lets get the values of (observed - expected)^2 / (expected)  , for each of the 3x4 cells\n",
    "parts = np.array([[oee(data[i][j], expected_values[i][j])\n",
    "         for j in range(num_neighborhoods)]\n",
    "          for i in range(num_classes)])"
   ]
  },
  {
   "cell_type": "code",
   "execution_count": 37,
   "metadata": {},
   "outputs": [
    {
     "data": {
      "text/plain": [
       "array([[  1.11152744e+00,   5.23760194e+00,   1.06678422e-01,\n",
       "          2.59672324e+00],\n",
       "       [  6.73968416e-01,   6.59008321e+00,   4.43326541e-01,\n",
       "          6.32518254e+00],\n",
       "       [  6.15384615e-01,   8.37606838e-01,   2.88461538e-02,\n",
       "          4.27350427e-03]])"
      ]
     },
     "execution_count": 37,
     "metadata": {},
     "output_type": "execute_result"
    }
   ],
   "source": [
    "parts"
   ]
  },
  {
   "cell_type": "code",
   "execution_count": 38,
   "metadata": {},
   "outputs": [],
   "source": [
    "# the chi square test statistic\n",
    "test_statistic = parts.sum()"
   ]
  },
  {
   "cell_type": "code",
   "execution_count": 39,
   "metadata": {},
   "outputs": [
    {
     "data": {
      "text/plain": [
       "24.571202858582595"
      ]
     },
     "execution_count": 39,
     "metadata": {},
     "output_type": "execute_result"
    }
   ],
   "source": [
    "test_statistic"
   ]
  },
  {
   "cell_type": "code",
   "execution_count": 43,
   "metadata": {},
   "outputs": [
    {
     "data": {
      "text/plain": [
       "(80.538461538461547, 2.596723238557046)"
      ]
     },
     "execution_count": 43,
     "metadata": {},
     "output_type": "execute_result"
    }
   ],
   "source": [
    "expected_values[0][3], oee(95, expected_values[0][3])"
   ]
  },
  {
   "cell_type": "raw",
   "metadata": {},
   "source": [
    "So if per the wikipedia page, the number of degrees of freedom here \n",
    "is `(3 - 1)(4 - 1) = 6`\n",
    "just eye balling https://en.wikipedia.org/wiki/File:Chi-square_pdf.svg  , I think the probability of `24.57` given k=6 degrees of freedom is a bit low...\n",
    "\n",
    "So the null hypothesis that \" each persons neighborhood of residence is independent of the persons occupational classification \" feels like it can be rejected.. "
   ]
  },
  {
   "cell_type": "code",
   "execution_count": 56,
   "metadata": {},
   "outputs": [],
   "source": [
    "# for the sake of argument... lets engineer a dataset which should pass the null hypothesis...\n",
    "# basically lets match the expected values... approximatly.. \n",
    "data2 = np.array([\n",
    "    [np.floor(expected_values[i][j]) for j in range(num_neighborhoods)]\n",
    "          for i in range(num_classes)\n",
    "])"
   ]
  },
  {
   "cell_type": "code",
   "execution_count": 57,
   "metadata": {},
   "outputs": [
    {
     "data": {
      "text/plain": [
       "array([[  80.,   80.,  107.,   80.],\n",
       "       [  34.,   34.,   46.,   34.],\n",
       "       [  34.,   34.,   46.,   34.]])"
      ]
     },
     "execution_count": 57,
     "metadata": {},
     "output_type": "execute_result"
    }
   ],
   "source": [
    "data2"
   ]
  },
  {
   "cell_type": "code",
   "execution_count": 58,
   "metadata": {},
   "outputs": [
    {
     "data": {
      "text/plain": [
       "643.0"
      ]
     },
     "execution_count": 58,
     "metadata": {},
     "output_type": "execute_result"
    }
   ],
   "source": [
    "# total here should be roughly like total above i think\n",
    "data2.sum()"
   ]
  },
  {
   "cell_type": "code",
   "execution_count": 63,
   "metadata": {},
   "outputs": [],
   "source": [
    "# calculate the test statistic for data2...\n",
    "def get_test_statistic(the_data):\n",
    "    total = the_data.sum()\n",
    "    num_classes, num_neighborhoods = the_data.shape[0], the_data.shape[1]\n",
    "    \n",
    "    neighborhood_totals = [\n",
    "    sum([the_data[i][j] for i in range(num_classes)]) for j in range(num_neighborhoods)]\n",
    "\n",
    "    neighborhood_totals = [\n",
    "        sum([the_data[i][j] for i in range(num_classes)])\n",
    "        for j in range(num_neighborhoods)]\n",
    "\n",
    "    class_totals = [the_data[i].sum() for i in range(num_classes)]\n",
    "\n",
    "    expected_values = [\n",
    "        [((neighborhood_totals[j])*(class_totals[i]/total))\n",
    "         for j in range(num_neighborhoods)]\n",
    "        for i in range(num_classes)]\n",
    "\n",
    "    parts = np.array([[oee(the_data[i][j], expected_values[i][j])\n",
    "         for j in range(num_neighborhoods)]\n",
    "          for i in range(num_classes)])\n",
    "\n",
    "    test_statistic = parts.sum()\n",
    "    return test_statistic\n"
   ]
  },
  {
   "cell_type": "code",
   "execution_count": 64,
   "metadata": {},
   "outputs": [
    {
     "data": {
      "text/plain": [
       "0.0044994022598769338"
      ]
     },
     "execution_count": 64,
     "metadata": {},
     "output_type": "execute_result"
    }
   ],
   "source": [
    "get_test_statistic(data2)"
   ]
  },
  {
   "cell_type": "code",
   "execution_count": 65,
   "metadata": {},
   "outputs": [],
   "source": [
    "# wow thats almost 0 but hmm.. the probability value for a chi-square distribution of k=6 ,\n",
    "# for x=0.004499 is pretty small.. \n",
    "# hmmm.."
   ]
  }
 ],
 "metadata": {
  "kernelspec": {
   "display_name": "Python 2",
   "language": "python",
   "name": "python2"
  },
  "language_info": {
   "codemirror_mode": {
    "name": "ipython",
    "version": 2
   },
   "file_extension": ".py",
   "mimetype": "text/x-python",
   "name": "python",
   "nbconvert_exporter": "python",
   "pygments_lexer": "ipython2",
   "version": "2.7.12"
  }
 },
 "nbformat": 4,
 "nbformat_minor": 2
}
